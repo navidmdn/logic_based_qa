{
 "cells": [
  {
   "cell_type": "code",
   "execution_count": 1,
   "id": "eb6a8746",
   "metadata": {},
   "outputs": [
    {
     "name": "stdout",
     "output_type": "stream",
     "text": [
      "Collecting pyswip\n",
      "  Cloning https://github.com/yuce/pyswip (to revision master) to /tmp/pip-install-2_74n0xi/pyswip_8c586ef7d57c46448a39c3b177322579\n",
      "  Running command git clone --filter=blob:none --quiet https://github.com/yuce/pyswip /tmp/pip-install-2_74n0xi/pyswip_8c586ef7d57c46448a39c3b177322579\n",
      "  Resolved https://github.com/yuce/pyswip to commit 89955611467cec37ab89bf6fbf7f7567cbcb194b\n",
      "  Preparing metadata (setup.py) ... \u001b[?25ldone\n",
      "\u001b[33mWARNING: You are using pip version 22.0.3; however, version 22.1.2 is available.\n",
      "You should consider upgrading via the '/home/csgrad/smadani/venvs/general/bin/python -m pip install --upgrade pip' command.\u001b[0m\u001b[33m\n",
      "\u001b[0m\u001b[?25hNote: you may need to restart the kernel to use updated packages.\n"
     ]
    }
   ],
   "source": [
    "pip install git+https://github.com/yuce/pyswip@master#egg=pyswip"
   ]
  },
  {
   "cell_type": "code",
   "execution_count": 9,
   "id": "f93554ae",
   "metadata": {},
   "outputs": [
    {
     "name": "stdout",
     "output_type": "stream",
     "text": [
      "Kismet|directed_by|William Dieterle\r\n",
      "Kismet|written_by|Edward Knoblock\r\n",
      "Kismet|starred_actors|Marlene Dietrich\r\n",
      "Kismet|starred_actors|Edward Arnold\r\n",
      "Kismet|starred_actors|Ronald Colman\r\n",
      "Kismet|starred_actors|James Craig\r\n",
      "Kismet|release_year|1944\r\n",
      "Kismet|in_language|English\r\n",
      "Kismet|has_tags|bd-r\r\n",
      "Flags of Our Fathers|directed_by|Clint Eastwood\r\n"
     ]
    }
   ],
   "source": [
    "!head kb.txt"
   ]
  },
  {
   "cell_type": "code",
   "execution_count": 1,
   "id": "a0cab767",
   "metadata": {},
   "outputs": [
    {
     "name": "stdout",
     "output_type": "stream",
     "text": [
      "134741\n"
     ]
    },
    {
     "data": {
      "text/plain": [
       "([['Kismet', 'directed_by', 'William Dieterle'],\n",
       "  ['Kismet', 'written_by', 'Edward Knoblock'],\n",
       "  ['Kismet', 'starred_actors', 'Marlene Dietrich'],\n",
       "  ['Kismet', 'starred_actors', 'Edward Arnold'],\n",
       "  ['Kismet', 'starred_actors', 'Ronald Colman']],\n",
       " {'directed_by',\n",
       "  'has_genre',\n",
       "  'has_imdb_rating',\n",
       "  'has_imdb_votes',\n",
       "  'has_tags',\n",
       "  'in_language',\n",
       "  'release_year',\n",
       "  'starred_actors',\n",
       "  'written_by'})"
      ]
     },
     "execution_count": 1,
     "metadata": {},
     "output_type": "execute_result"
    }
   ],
   "source": [
    "#TODO: use re\n",
    "import re\n",
    "\n",
    "triples = []\n",
    "rels = set()\n",
    "\n",
    "with open('kb.txt', 'r') as f:\n",
    "    kb_data = f.read().strip().split('\\n')\n",
    "    for line in kb_data:\n",
    "        elems = line.split('|')\n",
    "        triples.append(elems)\n",
    "        rels.add(elems[1])\n",
    "        \n",
    "print(len(triples))\n",
    "triples[:5], rels\n"
   ]
  },
  {
   "cell_type": "code",
   "execution_count": 2,
   "id": "b51f410b",
   "metadata": {},
   "outputs": [
    {
     "name": "stdout",
     "output_type": "stream",
     "text": [
      "['Spun', 'has_tags', 'john leguizamo']\n",
      "['Ice Age', 'has_tags', 'john leguizamo']\n",
      "['Spawn', 'has_tags', 'john leguizamo']\n",
      "['Super Mario Bros.', 'has_tags', 'john leguizamo']\n",
      "['The Pest', 'has_tags', 'john leguizamo']\n"
     ]
    }
   ],
   "source": [
    "def search_triples(s):\n",
    "    for triple in triples:\n",
    "        if s in triple[0] or s in triple[1] or s in triple[2]:\n",
    "            print(triple)\n",
    "            \n",
    "search_triples(\"john leguizamo\")"
   ]
  },
  {
   "cell_type": "code",
   "execution_count": 3,
   "id": "e97f40c6",
   "metadata": {},
   "outputs": [],
   "source": [
    "vocab = {}\n",
    "for triple in triples:\n",
    "    for i, ele in enumerate(triple):\n",
    "        if ele not in vocab:\n",
    "            if i == 0 or i == 2:\n",
    "                vocab[ele] = f\"ent_{len(vocab)}\"\n",
    "            else:\n",
    "                vocab[ele] = f\"rel_{len(vocab)}\"\n"
   ]
  },
  {
   "cell_type": "code",
   "execution_count": 4,
   "id": "b0cd82e0",
   "metadata": {},
   "outputs": [
    {
     "name": "stdout",
     "output_type": "stream",
     "text": [
      "{'has_imdb_rating_reverse', 'directed_by_reverse', 'has_genre_reverse', 'in_language_reverse', 'has_tags_reverse', 'starred_actors_reverse', 'release_year_reverse', 'written_by_reverse', 'has_imdb_votes_reverse'}\n"
     ]
    }
   ],
   "source": [
    "# add reverse relations\n",
    "\n",
    "rev_rels = {f\"{r}_reverse\" for r in rels}\n",
    "print(rev_rels)\n",
    "\n",
    "for rel in rev_rels:\n",
    "    vocab[rel] = f\"rel_{len(vocab)}\"\n",
    "    "
   ]
  },
  {
   "cell_type": "code",
   "execution_count": 6,
   "id": "fed5d6c0",
   "metadata": {},
   "outputs": [
    {
     "name": "stderr",
     "output_type": "stream",
     "text": [
      "100%|██████████████████████████████████████████████████████████████████████████████████████████████████████████████████████████████████████████████████████████| 134741/134741 [00:04<00:00, 28620.42it/s]\n"
     ]
    }
   ],
   "source": [
    "from pyswip import Prolog\n",
    "from tqdm import tqdm\n",
    "\n",
    "prolog = Prolog()\n",
    "\n",
    "for triple in tqdm(triples):\n",
    "    s1, r, s2 = vocab[triple[0]], vocab[triple[1]], vocab[triple[2]]\n",
    "    rev_r = vocab[f\"{triple[1]}_reverse\"]\n",
    "    prolog.assertz(f\"{r}({s1},{s2})\")\n",
    "    prolog.assertz(f\"{rev_r}({s2},{s1})\")\n"
   ]
  },
  {
   "cell_type": "code",
   "execution_count": null,
   "id": "956b9354",
   "metadata": {},
   "outputs": [],
   "source": []
  },
  {
   "cell_type": "markdown",
   "id": "eb03ed9d",
   "metadata": {},
   "source": [
    "## 1 hop"
   ]
  },
  {
   "cell_type": "code",
   "execution_count": 16,
   "id": "daed7cfd",
   "metadata": {},
   "outputs": [
    {
     "data": {
      "text/plain": [
       "[{'X': 'Norman Steinberg'},\n",
       " {'X': 'David Frankel'},\n",
       " {'X': 'Bob Greene'},\n",
       " {'X': 'Norman Steinberg'},\n",
       " {'X': 'David Frankel'},\n",
       " {'X': 'Bob Greene'}]"
      ]
     },
     "execution_count": 16,
     "metadata": {},
     "output_type": "execute_result"
    }
   ],
   "source": [
    "inv_vocab = {v:k for k, v in vocab.items()}\n",
    "\n",
    "def query_obj(rel, s1):\n",
    "    res = list(prolog.query(f\"{vocab[rel]}({vocab[s1]},X)\"))\n",
    "    for d in res:\n",
    "        d['X'] = inv_vocab[d['X']]\n",
    "    return res\n",
    "\n",
    "query_obj('written_by', 'Funny About Love')"
   ]
  },
  {
   "cell_type": "code",
   "execution_count": null,
   "id": "277c9521",
   "metadata": {},
   "outputs": [],
   "source": []
  },
  {
   "cell_type": "code",
   "execution_count": null,
   "id": "7fcf025d",
   "metadata": {},
   "outputs": [],
   "source": []
  },
  {
   "cell_type": "markdown",
   "id": "dde766bd",
   "metadata": {},
   "source": [
    "## 2 hop"
   ]
  },
  {
   "cell_type": "code",
   "execution_count": 38,
   "id": "3b2684ff",
   "metadata": {},
   "outputs": [
    {
     "data": {
      "text/plain": [
       "'rel_1(X,ent_13005), rel_3(X,Y)'"
      ]
     },
     "execution_count": 38,
     "metadata": {},
     "output_type": "execute_result"
    }
   ],
   "source": [
    "f\"{vocab['directed_by']}(X,{vocab['Yuriy Norshteyn']}), {vocab['written_by']}(X,Y)\""
   ]
  },
  {
   "cell_type": "code",
   "execution_count": 37,
   "id": "fecd7abe",
   "metadata": {},
   "outputs": [
    {
     "name": "stdout",
     "output_type": "stream",
     "text": [
      "[{'X': 'ent_13004', 'Y': 'ent_13005'}, {'X': 'ent_41313', 'Y': 'ent_41314'}]\n"
     ]
    },
    {
     "data": {
      "text/plain": [
       "[{'X': 'Tale of Tales', 'Y': 'Yuriy Norshteyn'},\n",
       " {'X': 'Hedgehog in the Fog', 'Y': 'Sergei Kozlov'}]"
      ]
     },
     "execution_count": 37,
     "metadata": {},
     "output_type": "execute_result"
    }
   ],
   "source": [
    "res = list(prolog.query(f\"{vocab['directed_by']}(X,{vocab['Yuriy Norshteyn']}), {vocab['written_by']}(X,Y)\"))\n",
    "print(res)\n",
    "\n",
    "for d in res:\n",
    "    for k,v in d.items():\n",
    "        d[k] = inv_vocab[v]\n",
    "res"
   ]
  },
  {
   "cell_type": "code",
   "execution_count": null,
   "id": "d34f1065",
   "metadata": {},
   "outputs": [],
   "source": []
  },
  {
   "cell_type": "markdown",
   "id": "c5aae0b3",
   "metadata": {},
   "source": [
    "## dataset to create\n",
    "\n",
    "How many is enough? to answer I need to read the paper on meta learning"
   ]
  },
  {
   "cell_type": "markdown",
   "id": "65cf6abb",
   "metadata": {},
   "source": [
    "### 1-hop\n",
    "\n",
    "what films did [Stewart Hopewell] direct -> directed_by(X,[Stewart Hopewell])\n",
    "who was the director of [Fat Man and Little Boy] -> directed_by([Fat Man and Little Boy],X)\n",
    "what was the release date of the movie [The Savages] -> release_year([The Savages],X)\n",
    "\n",
    "\n",
    "### 2-hop\n",
    "\n",
    "\n",
    "### 3-hop\n"
   ]
  },
  {
   "cell_type": "markdown",
   "id": "d32ea0dc",
   "metadata": {},
   "source": [
    "## weak translation with manual labeling functions"
   ]
  },
  {
   "cell_type": "code",
   "execution_count": 46,
   "id": "763ecd7f",
   "metadata": {},
   "outputs": [
    {
     "name": "stdout",
     "output_type": "stream",
     "text": [
      "114196 ./metaqa/qa_train_3hop.txt\n",
      "114196 ./metaqa/3hop-qtype.txt\n"
     ]
    }
   ],
   "source": [
    "!wc -l ./metaqa/qa_train_3hop.txt\n",
    "!wc -l ./metaqa/3hop-qtype.txt"
   ]
  },
  {
   "cell_type": "code",
   "execution_count": 13,
   "id": "682f23aa",
   "metadata": {},
   "outputs": [
    {
     "data": {
      "text/plain": [
       "[(('the films that share actors with the film [Dil Chahta Hai] were released in which years',\n",
       "   '1997|1998|2003|2001|2006|2004|2005|2014|2008|2009|2010|2012'),\n",
       "  'movie_to_actor_to_movie_to_year'),\n",
       " (('who are the directors of the movies written by the writer of [The Green Mile]',\n",
       "   'Stephen King|Frank Darabont|Tobe Hooper|Mick Garris|Lawrence Kasdan|Paul Michael Glaser|John Carpenter|Rob Reiner|Mikael Håfström|Brian De Palma|Chuck Russell|Donald P. Borchers|George A. Romero|Bryan Singer|Tom Holland|Fritz Kiersch|Brett Leonard|Stanley Kubrick|Ralph S. Singleton|Taylor Hackford|Lewis Teague|Mark L. Lester|David Cronenberg|Mark Pavia|David Koepp|Mary Lambert|William Wyler|Michael Gornick|Scott Hicks'),\n",
       "  'movie_to_writer_to_movie_to_director'),\n",
       " (('which person directed the films acted by the actors in [Jawbreaker]',\n",
       "   \"Chris D'Arienzo|Jonathan Kesselman|Joe Chappelle|Robert Rodriguez|Victor Salva|Matthew Leutwyler|Gregg Araki|Mark Duplass|Jared Drake\"),\n",
       "  'movie_to_actor_to_movie_to_director'),\n",
       " (('who is listed as director of the movies starred by [December Boys] actors',\n",
       "   'Chris Columbus|David Yates|Alfonso Cuarón|Mike Newell|Alexandre Aja'),\n",
       "  'movie_to_actor_to_movie_to_director'),\n",
       " (('what types are the films directed by the director of [For Love or Money]',\n",
       "   'Action|Comedy|Western|Thriller|Crime'),\n",
       "  'movie_to_director_to_movie_to_genre')]"
      ]
     },
     "execution_count": 13,
     "metadata": {},
     "output_type": "execute_result"
    }
   ],
   "source": [
    "with open(\"./metaqa/qa_train_3hop.txt\", 'r') as f:\n",
    "    lines = f.read().strip().split('\\n')\n",
    "    questions = []\n",
    "    for line in lines:\n",
    "        q, ans = line.split(\"\\t\")\n",
    "        questions.append((q,ans))\n",
    "\n",
    "with open(\"./metaqa/3hop-qtype.txt\", 'r') as f:\n",
    "    lines = f.read().strip().split('\\n')\n",
    "    logics = []\n",
    "    for line in lines:\n",
    "        logics.append(line)\n",
    "\n",
    "\n",
    "list(zip(questions, logics))[:5]"
   ]
  },
  {
   "cell_type": "markdown",
   "id": "bb566415",
   "metadata": {},
   "source": [
    "### extract all logical predicates from data"
   ]
  },
  {
   "cell_type": "code",
   "execution_count": 8,
   "id": "5b80e5c6",
   "metadata": {},
   "outputs": [
    {
     "data": {
      "text/plain": [
       "['movie_actor', 'actor_movie', 'movie_year']"
      ]
     },
     "execution_count": 8,
     "metadata": {},
     "output_type": "execute_result"
    }
   ],
   "source": [
    "\n",
    "def logics_str_to_steps(logics_str):\n",
    "    logics_str = logics_str.replace(\"_to_\", \"_\")\n",
    "    logics_str += \"_\"\n",
    "    steps = []\n",
    "    logic_steps = []\n",
    "    i = 0\n",
    "    prev_und_loc = -1\n",
    "    while i < len(logics_str):\n",
    "        if logics_str[i] == '_' or i == len(logics_str)-1:\n",
    "            steps.append(logics_str[prev_und_loc+1:i])\n",
    "            prev_und_loc = i\n",
    "        i+=1\n",
    "    for i in range(len(steps)-1):\n",
    "        logic_steps.append(f\"{steps[i]}_{steps[i+1]}\")\n",
    "    return logic_steps\n",
    "\n",
    "logics_str_to_steps('movie_to_actor_to_movie_to_year')"
   ]
  },
  {
   "cell_type": "code",
   "execution_count": 9,
   "id": "f3fae9dc",
   "metadata": {},
   "outputs": [
    {
     "data": {
      "text/plain": [
       "{'actor_movie',\n",
       " 'director_movie',\n",
       " 'movie_actor',\n",
       " 'movie_director',\n",
       " 'movie_genre',\n",
       " 'movie_imdbrating',\n",
       " 'movie_imdbvotes',\n",
       " 'movie_language',\n",
       " 'movie_tags',\n",
       " 'movie_writer',\n",
       " 'movie_year',\n",
       " 'tag_movie',\n",
       " 'writer_movie'}"
      ]
     },
     "execution_count": 9,
     "metadata": {},
     "output_type": "execute_result"
    }
   ],
   "source": [
    "logics_strs = []\n",
    "\n",
    "with open(\"./metaqa/3hop-qtype.txt\", 'r') as f:\n",
    "    lines = f.read().strip().split('\\n')\n",
    "    for line in lines:\n",
    "        logics_strs.append(line)\n",
    "        \n",
    "with open(\"./metaqa/2hop-qtype.txt\", 'r') as f:\n",
    "    lines = f.read().strip().split('\\n')\n",
    "    for line in lines:\n",
    "        logics_strs.append(line)\n",
    "        \n",
    "with open(\"./metaqa/1hop-qtype.txt\", 'r') as f:\n",
    "    lines = f.read().strip().split('\\n')\n",
    "    for line in lines:\n",
    "        logics_strs.append(line)\n",
    "        \n",
    "        \n",
    "logics_strs_set = set()\n",
    "\n",
    "for logic_str in logics_strs:\n",
    "    steps = logics_str_to_steps(logic_str)\n",
    "    logics_strs_set.update(steps)\n",
    "\n",
    "logics_strs_set"
   ]
  },
  {
   "cell_type": "markdown",
   "id": "c01ede19",
   "metadata": {},
   "source": [
    "### logic step to predicate"
   ]
  },
  {
   "cell_type": "code",
   "execution_count": null,
   "id": "e4c10895",
   "metadata": {},
   "outputs": [],
   "source": []
  },
  {
   "cell_type": "code",
   "execution_count": 10,
   "id": "2c7bb26b",
   "metadata": {},
   "outputs": [],
   "source": [
    "logic_to_predicate_dict = {\n",
    "    'actor_movie': 'starred_actors_reverse',\n",
    "    'director_movie': 'directed_by_reverse',\n",
    "    'movie_actor': 'starred_actors',\n",
    "    'movie_director': 'directed_by',\n",
    "    'movie_genre': 'has_genre',\n",
    "    'movie_imdbrating': 'has_imdb_rating',\n",
    "    'movie_imdbvotes': 'has_imdb_votes',\n",
    "    'movie_language': 'in_language',\n",
    "    'movie_tags': 'has_tags',\n",
    "    'movie_writer': 'written_by',\n",
    "    'movie_year': 'release_year',\n",
    "    'tag_movie': 'has_tags_reverse',\n",
    "    'writer_movie': 'written_by_reverse'\n",
    "}"
   ]
  },
  {
   "cell_type": "code",
   "execution_count": 29,
   "id": "a49c549d",
   "metadata": {},
   "outputs": [],
   "source": [
    "import re\n",
    "\n",
    "def create_query_string(question_str, question_steps, logic_to_predicate_dict, entity_rel_vocab):\n",
    "    # extract question concept\n",
    "    question_concept = re.findall(r'\\[(.+)\\]', question_str)[0]\n",
    "    #print(question_concept)\n",
    "    \n",
    "    # define prolog variables\n",
    "    prolog_vars = ['X', 'Y', 'Z']\n",
    "    logic_steps = logics_str_to_steps(question_steps)\n",
    "    predicate_steps = [logic_to_predicate_dict[x] for x in logic_steps]\n",
    "    #print(logic_steps)\n",
    "    #print(predicate_steps)\n",
    "    \n",
    "    # create predicates\n",
    "    p1 = f'{predicate_steps[0]}({question_concept},X)'\n",
    "    p1_query = f'{entity_rel_vocab[predicate_steps[0]]}({entity_rel_vocab[question_concept]},X)'\n",
    "    i = 1\n",
    "    predicates = [p1,]\n",
    "    predicates_query = [p1_query,]\n",
    "    while i < len(predicate_steps):\n",
    "        predicates.append(f\"{predicate_steps[i]}({prolog_vars[i-1]},{prolog_vars[i]})\")\n",
    "        predicates_query.append(\n",
    "            f'{entity_rel_vocab[predicate_steps[i]]}({prolog_vars[i-1]},{prolog_vars[i]})'\n",
    "        )\n",
    "        i += 1\n",
    "        \n",
    "    query_string = ', '.join(predicates_query)\n",
    "    return predicates, query_string\n",
    "    \n",
    "predicates, query = create_query_string(\n",
    "    'what types are the films directed by the director of [For Love or Money]',\n",
    "    'movie_to_director_to_movie_to_genre',\n",
    "    logic_to_predicate_dict,\n",
    "    vocab\n",
    ")"
   ]
  },
  {
   "cell_type": "code",
   "execution_count": 18,
   "id": "02b76570",
   "metadata": {},
   "outputs": [
    {
     "name": "stdout",
     "output_type": "stream",
     "text": [
      "['directed_by(For Love or Money,X)', 'directed_by_reverse(X,Y)', 'has_genre(Y,Z)'] rel_1(ent_23998,X), rel_43244(X,Y), rel_22(Y,Z)\n"
     ]
    },
    {
     "data": {
      "text/plain": [
       "[{'X': 'Barry Sonnenfeld', 'Y': 'Addams Family Values', 'Z': 'Comedy'},\n",
       " {'X': 'Barry Sonnenfeld', 'Y': 'Addams Family Values', 'Z': 'Comedy'},\n",
       " {'X': 'Barry Sonnenfeld', 'Y': 'Big Trouble', 'Z': 'Comedy'},\n",
       " {'X': 'Barry Sonnenfeld', 'Y': 'Big Trouble', 'Z': 'Comedy'},\n",
       " {'X': 'Barry Sonnenfeld', 'Y': 'Big Trouble', 'Z': 'Comedy'},\n",
       " {'X': 'Barry Sonnenfeld', 'Y': 'Big Trouble', 'Z': 'Comedy'},\n",
       " {'X': 'Barry Sonnenfeld', 'Y': 'For Love or Money', 'Z': 'Comedy'},\n",
       " {'X': 'Barry Sonnenfeld', 'Y': 'For Love or Money', 'Z': 'Comedy'},\n",
       " {'X': 'Barry Sonnenfeld', 'Y': 'RV', 'Z': 'Comedy'},\n",
       " {'X': 'Barry Sonnenfeld', 'Y': 'RV', 'Z': 'Comedy'},\n",
       " {'X': 'Barry Sonnenfeld', 'Y': 'Men in Black 3', 'Z': 'Comedy'},\n",
       " {'X': 'Barry Sonnenfeld', 'Y': 'Men in Black 3', 'Z': 'Action'},\n",
       " {'X': 'Barry Sonnenfeld', 'Y': 'Men in Black 3', 'Z': 'Comedy'},\n",
       " {'X': 'Barry Sonnenfeld', 'Y': 'Men in Black 3', 'Z': 'Action'},\n",
       " {'X': 'Barry Sonnenfeld', 'Y': 'Get Shorty', 'Z': 'Comedy'},\n",
       " {'X': 'Barry Sonnenfeld', 'Y': 'Get Shorty', 'Z': 'Thriller'},\n",
       " {'X': 'Barry Sonnenfeld', 'Y': 'Get Shorty', 'Z': 'Crime'},\n",
       " {'X': 'Barry Sonnenfeld', 'Y': 'Get Shorty', 'Z': 'Comedy'},\n",
       " {'X': 'Barry Sonnenfeld', 'Y': 'Get Shorty', 'Z': 'Thriller'},\n",
       " {'X': 'Barry Sonnenfeld', 'Y': 'Get Shorty', 'Z': 'Crime'},\n",
       " {'X': 'Barry Sonnenfeld', 'Y': 'Wild Wild West', 'Z': 'Comedy'},\n",
       " {'X': 'Barry Sonnenfeld', 'Y': 'Wild Wild West', 'Z': 'Action'},\n",
       " {'X': 'Barry Sonnenfeld', 'Y': 'Wild Wild West', 'Z': 'Western'},\n",
       " {'X': 'Barry Sonnenfeld', 'Y': 'Wild Wild West', 'Z': 'Comedy'},\n",
       " {'X': 'Barry Sonnenfeld', 'Y': 'Wild Wild West', 'Z': 'Action'},\n",
       " {'X': 'Barry Sonnenfeld', 'Y': 'Wild Wild West', 'Z': 'Western'},\n",
       " {'X': 'Barry Sonnenfeld', 'Y': 'Addams Family Values', 'Z': 'Comedy'},\n",
       " {'X': 'Barry Sonnenfeld', 'Y': 'Addams Family Values', 'Z': 'Comedy'},\n",
       " {'X': 'Barry Sonnenfeld', 'Y': 'Big Trouble', 'Z': 'Comedy'},\n",
       " {'X': 'Barry Sonnenfeld', 'Y': 'Big Trouble', 'Z': 'Comedy'},\n",
       " {'X': 'Barry Sonnenfeld', 'Y': 'Big Trouble', 'Z': 'Comedy'},\n",
       " {'X': 'Barry Sonnenfeld', 'Y': 'Big Trouble', 'Z': 'Comedy'},\n",
       " {'X': 'Barry Sonnenfeld', 'Y': 'For Love or Money', 'Z': 'Comedy'},\n",
       " {'X': 'Barry Sonnenfeld', 'Y': 'For Love or Money', 'Z': 'Comedy'},\n",
       " {'X': 'Barry Sonnenfeld', 'Y': 'RV', 'Z': 'Comedy'},\n",
       " {'X': 'Barry Sonnenfeld', 'Y': 'RV', 'Z': 'Comedy'},\n",
       " {'X': 'Barry Sonnenfeld', 'Y': 'Men in Black 3', 'Z': 'Comedy'},\n",
       " {'X': 'Barry Sonnenfeld', 'Y': 'Men in Black 3', 'Z': 'Action'},\n",
       " {'X': 'Barry Sonnenfeld', 'Y': 'Men in Black 3', 'Z': 'Comedy'},\n",
       " {'X': 'Barry Sonnenfeld', 'Y': 'Men in Black 3', 'Z': 'Action'},\n",
       " {'X': 'Barry Sonnenfeld', 'Y': 'Get Shorty', 'Z': 'Comedy'},\n",
       " {'X': 'Barry Sonnenfeld', 'Y': 'Get Shorty', 'Z': 'Thriller'},\n",
       " {'X': 'Barry Sonnenfeld', 'Y': 'Get Shorty', 'Z': 'Crime'},\n",
       " {'X': 'Barry Sonnenfeld', 'Y': 'Get Shorty', 'Z': 'Comedy'},\n",
       " {'X': 'Barry Sonnenfeld', 'Y': 'Get Shorty', 'Z': 'Thriller'},\n",
       " {'X': 'Barry Sonnenfeld', 'Y': 'Get Shorty', 'Z': 'Crime'},\n",
       " {'X': 'Barry Sonnenfeld', 'Y': 'Wild Wild West', 'Z': 'Comedy'},\n",
       " {'X': 'Barry Sonnenfeld', 'Y': 'Wild Wild West', 'Z': 'Action'},\n",
       " {'X': 'Barry Sonnenfeld', 'Y': 'Wild Wild West', 'Z': 'Western'},\n",
       " {'X': 'Barry Sonnenfeld', 'Y': 'Wild Wild West', 'Z': 'Comedy'},\n",
       " {'X': 'Barry Sonnenfeld', 'Y': 'Wild Wild West', 'Z': 'Action'},\n",
       " {'X': 'Barry Sonnenfeld', 'Y': 'Wild Wild West', 'Z': 'Western'}]"
      ]
     },
     "execution_count": 18,
     "metadata": {},
     "output_type": "execute_result"
    }
   ],
   "source": [
    "def interpret_query_result(query_result, eid_to_entity_dict):\n",
    "    interpreted_res = []\n",
    "    for result in query_result:\n",
    "        d = {}\n",
    "        for key, val in result.items():\n",
    "            d[key] = eid_to_entity_dict[val]\n",
    "        interpreted_res.append(d)\n",
    "    return interpreted_res\n",
    "\n",
    "print(predicates, query)\n",
    "res=list(prolog.query(query))\n",
    "interpret_query_result(res, inv_vocab)"
   ]
  },
  {
   "cell_type": "markdown",
   "id": "77dfcad6",
   "metadata": {},
   "source": [
    "### build the dataset"
   ]
  },
  {
   "cell_type": "code",
   "execution_count": 23,
   "id": "841cedb1",
   "metadata": {},
   "outputs": [
    {
     "data": {
      "text/plain": [
       "[(('what movies are about [ginger rogers]',\n",
       "   'Top Hat|Kitty Foyle|The Barkleys of Broadway'),\n",
       "  'tag_to_movie'),\n",
       " (('which movies can be described by [moore]',\n",
       "   'Fahrenheit 9/11|Far from Heaven'),\n",
       "  'tag_to_movie'),\n",
       " (('what films can be described by [occupation]',\n",
       "   'Red Dawn|The Teahouse of the August Moon'),\n",
       "  'tag_to_movie'),\n",
       " (('which films are about [jacques tati]', 'Mon Oncle|Playtime|Trafic'),\n",
       "  'tag_to_movie'),\n",
       " (('what movies are about [donnie darko]', 'S. Darko'), 'tag_to_movie')]"
      ]
     },
     "execution_count": 23,
     "metadata": {},
     "output_type": "execute_result"
    }
   ],
   "source": [
    "questions = []\n",
    "logics = []\n",
    "\n",
    "for i in range(1,4):\n",
    "    with open(f\"./metaqa/qa_train_{i}hop.txt\", 'r') as f:\n",
    "        lines = f.read().strip().split('\\n')\n",
    "        for line in lines:\n",
    "            q, ans = line.split(\"\\t\")\n",
    "            questions.append((q,ans))\n",
    "\n",
    "    with open(f\"./metaqa/{i}hop-qtype.txt\", 'r') as f:\n",
    "        lines = f.read().strip().split('\\n')\n",
    "        for line in lines:\n",
    "            logics.append(line)\n",
    "        \n",
    "\n",
    "\n",
    "list(zip(questions, logics))[:5]"
   ]
  },
  {
   "cell_type": "code",
   "execution_count": 25,
   "id": "48b3f306",
   "metadata": {},
   "outputs": [
    {
     "data": {
      "text/plain": [
       "(312817, 16465)"
      ]
     },
     "execution_count": 25,
     "metadata": {},
     "output_type": "execute_result"
    }
   ],
   "source": [
    "from sklearn.model_selection import train_test_split\n",
    "\n",
    "raw_dataset = list(zip(questions, logics))\n",
    "train_ds, test_ds = train_test_split(raw_dataset, test_size=0.05)\n",
    "len(train_ds), len(test_ds)"
   ]
  },
  {
   "cell_type": "code",
   "execution_count": 26,
   "id": "ef4387e1",
   "metadata": {},
   "outputs": [
    {
     "data": {
      "text/plain": [
       "[(('describe the movie [Bad Girls] in a few words',\n",
       "   'drew barrymore|andie macdowell|mary stuart masterson'),\n",
       "  'movie_to_tags'),\n",
       " (('what genres do the movies written by [Harriet Frank Jr.] fall under',\n",
       "   'Romance|Comedy'),\n",
       "  'writer_to_movie_to_genre'),\n",
       " (('the films directed by the director of [Heaven Is for Real] starred who',\n",
       "   'Joseph Schildkraut|Diane Lane|Joan Bennett|Louis Hayward|Jeremy Irons|Warren William|Leonardo DiCaprio|Mel Gibson|John Malkovich'),\n",
       "  'movie_to_director_to_movie_to_actor'),\n",
       " (('the movies starred by [Diedrich Bader] were written by who',\n",
       "   'Aaron Seltzer|Jason Friedberg'),\n",
       "  'actor_to_movie_to_writer'),\n",
       " (('the actor [Heather Donahue] co-starred with who',\n",
       "   'Michael C. Williams|Joshua Leonard'),\n",
       "  'actor_to_movie_to_actor')]"
      ]
     },
     "execution_count": 26,
     "metadata": {},
     "output_type": "execute_result"
    }
   ],
   "source": [
    "train_ds[:5]"
   ]
  },
  {
   "cell_type": "code",
   "execution_count": 34,
   "id": "eb8e81ec",
   "metadata": {},
   "outputs": [],
   "source": [
    "import pandas as pd\n",
    "\n",
    "def build_csv_dataset(ds, path):\n",
    "    translated = []\n",
    "    questions = []\n",
    "    for (question, ans), logic in ds:\n",
    "        questions.append(question)\n",
    "        predicates, query = create_query_string(\n",
    "            question,\n",
    "            logic,\n",
    "            logic_to_predicate_dict,\n",
    "            vocab\n",
    "        )\n",
    "        translated.append(\",\".join(predicates))\n",
    "    df = pd.DataFrame({'question': questions, 'logic': translated})\n",
    "    #df.to_csv(path, index=False, header=True)\n",
    "    df.to_json(path, orient='records', lines=True)\n",
    "\n",
    "build_csv_dataset(train_ds, 'train_s2s.jsonl')\n",
    "build_csv_dataset(test_ds, 'valid_s2s.jsonl')"
   ]
  },
  {
   "cell_type": "code",
   "execution_count": 1,
   "id": "f8eb7b83",
   "metadata": {},
   "outputs": [
    {
     "name": "stdout",
     "output_type": "stream",
     "text": [
      "{\"question\":\"describe the movie [Bad Girls] in a few words\",\"logic\":\"has_tags(Bad Girls,X)\"}\r\n",
      "{\"question\":\"what genres do the movies written by [Harriet Frank Jr.] fall under\",\"logic\":\"written_by_reverse(Harriet Frank Jr.,X),has_genre(X,Y)\"}\r\n",
      "{\"question\":\"the films directed by the director of [Heaven Is for Real] starred who\",\"logic\":\"directed_by(Heaven Is for Real,X),directed_by_reverse(X,Y),starred_actors(Y,Z)\"}\r\n",
      "{\"question\":\"the movies starred by [Diedrich Bader] were written by who\",\"logic\":\"starred_actors_reverse(Diedrich Bader,X),written_by(X,Y)\"}\r\n",
      "{\"question\":\"the actor [Heather Donahue] co-starred with who\",\"logic\":\"starred_actors_reverse(Heather Donahue,X),starred_actors(X,Y)\"}\r\n",
      "{\"question\":\"what types are the movies written by [St\\u00e9phane Aubier]\",\"logic\":\"written_by_reverse(St\\u00e9phane Aubier,X),has_genre(X,Y)\"}\r\n",
      "{\"question\":\"who are the actors in the films directed by the director of [Les Mistons]\",\"logic\":\"directed_by(Les Mistons,X),directed_by_reverse(X,Y),starred_actors(Y,Z)\"}\r\n",
      "{\"question\":\"what are the genres of the films whose directors also directed [The Jolson Story]\",\"logic\":\"directed_by(The Jolson Story,X),directed_by_reverse(X,Y),has_genre(Y,Z)\"}\r\n",
      "{\"question\":\"what films did [Cris Lankenau] act in\",\"logic\":\"starred_actors_reverse(Cris Lankenau,X)\"}\r\n",
      "{\"question\":\"what languages are the movies that share actors with [God Is Great and I'm Not] in\",\"logic\":\"starred_actors(God Is Great and I'm Not,X),starred_actors_reverse(X,Y),in_language(Y,Z)\"}\r\n"
     ]
    }
   ],
   "source": [
    "!head train_s2s.json"
   ]
  },
  {
   "cell_type": "markdown",
   "id": "6820be10",
   "metadata": {},
   "source": [
    "## test model"
   ]
  },
  {
   "cell_type": "code",
   "execution_count": 12,
   "id": "a229fbcc",
   "metadata": {},
   "outputs": [],
   "source": [
    "from transformers import AutoTokenizer\n",
    "\n",
    "tokenizer = AutoTokenizer.from_pretrained(\"./results/t5-v1/checkpoint-4000/\")"
   ]
  },
  {
   "cell_type": "code",
   "execution_count": 13,
   "id": "f994ef7d",
   "metadata": {},
   "outputs": [],
   "source": [
    "from transformers import AutoModelForSeq2SeqLM\n",
    "\n",
    "model = AutoModelForSeq2SeqLM.from_pretrained(\"./results/t5-v1/checkpoint-4000/\")"
   ]
  },
  {
   "cell_type": "code",
   "execution_count": 17,
   "id": "7cc9b59e",
   "metadata": {},
   "outputs": [
    {
     "name": "stdout",
     "output_type": "stream",
     "text": [
      "directed_by(Heaven Is for Real,X), directed_by_reverse(X,Y), starred_actors(Y,Z)\n"
     ]
    }
   ],
   "source": [
    "sent = \"summarize: the films directed by the director of [Heaven Is for Real] starred who\"\n",
    "#,\"logic\":\"directed_by(Heaven Is for Real,X),directed_by_reverse(X,Y),starred_actors(Y,Z)\"\"\n",
    "inputs = tokenizer(\n",
    "    f\"summarize: {sent}\",\n",
    "    return_tensors=\"pt\",\n",
    "#     max_length=100,\n",
    "#     truncation=True\n",
    ").input_ids\n",
    "outputs = model.generate(inputs, max_new_tokens=200)#, max_length=50)\n",
    "print(tokenizer.decode(outputs[0], skip_special_tokens=True))"
   ]
  },
  {
   "cell_type": "code",
   "execution_count": 18,
   "id": "e86abae8",
   "metadata": {},
   "outputs": [
    {
     "data": {
      "text/plain": [
       "T5Config {\n",
       "  \"_name_or_path\": \"./results/t5-v1/checkpoint-4000/\",\n",
       "  \"architectures\": [\n",
       "    \"T5ForConditionalGeneration\"\n",
       "  ],\n",
       "  \"d_ff\": 2048,\n",
       "  \"d_kv\": 64,\n",
       "  \"d_model\": 512,\n",
       "  \"decoder_start_token_id\": 0,\n",
       "  \"dense_act_fn\": \"relu\",\n",
       "  \"dropout_rate\": 0.1,\n",
       "  \"eos_token_id\": 1,\n",
       "  \"feed_forward_proj\": \"relu\",\n",
       "  \"initializer_factor\": 1.0,\n",
       "  \"is_encoder_decoder\": true,\n",
       "  \"is_gated_act\": false,\n",
       "  \"layer_norm_epsilon\": 1e-06,\n",
       "  \"model_type\": \"t5\",\n",
       "  \"n_positions\": 512,\n",
       "  \"num_decoder_layers\": 6,\n",
       "  \"num_heads\": 8,\n",
       "  \"num_layers\": 6,\n",
       "  \"output_past\": true,\n",
       "  \"pad_token_id\": 0,\n",
       "  \"relative_attention_max_distance\": 128,\n",
       "  \"relative_attention_num_buckets\": 32,\n",
       "  \"task_specific_params\": {\n",
       "    \"summarization\": {\n",
       "      \"early_stopping\": true,\n",
       "      \"length_penalty\": 2.0,\n",
       "      \"max_length\": 200,\n",
       "      \"min_length\": 30,\n",
       "      \"no_repeat_ngram_size\": 3,\n",
       "      \"num_beams\": 4,\n",
       "      \"prefix\": \"summarize: \"\n",
       "    },\n",
       "    \"translation_en_to_de\": {\n",
       "      \"early_stopping\": true,\n",
       "      \"max_length\": 300,\n",
       "      \"num_beams\": 4,\n",
       "      \"prefix\": \"translate English to German: \"\n",
       "    },\n",
       "    \"translation_en_to_fr\": {\n",
       "      \"early_stopping\": true,\n",
       "      \"max_length\": 300,\n",
       "      \"num_beams\": 4,\n",
       "      \"prefix\": \"translate English to French: \"\n",
       "    },\n",
       "    \"translation_en_to_ro\": {\n",
       "      \"early_stopping\": true,\n",
       "      \"max_length\": 300,\n",
       "      \"num_beams\": 4,\n",
       "      \"prefix\": \"translate English to Romanian: \"\n",
       "    }\n",
       "  },\n",
       "  \"torch_dtype\": \"float32\",\n",
       "  \"transformers_version\": \"4.22.0.dev0\",\n",
       "  \"use_cache\": true,\n",
       "  \"vocab_size\": 32100\n",
       "}"
      ]
     },
     "execution_count": 18,
     "metadata": {},
     "output_type": "execute_result"
    }
   ],
   "source": [
    "model.config"
   ]
  },
  {
   "cell_type": "code",
   "execution_count": 19,
   "id": "67c9e10f",
   "metadata": {},
   "outputs": [],
   "source": [
    "inputs = tokenizer(\n",
    "    [f\"summarize: {sent}\", \"which mother fuckers played in movie [navid in wonderland]\"],\n",
    "    return_tensors=\"pt\",\n",
    "    max_length=100,\n",
    "    truncation=True,\n",
    "    padding=True\n",
    ").input_ids\n",
    "\n",
    "outputs = model.generate(inputs, max_length=50)"
   ]
  },
  {
   "cell_type": "code",
   "execution_count": 20,
   "id": "4fa4af2b",
   "metadata": {},
   "outputs": [
    {
     "name": "stdout",
     "output_type": "stream",
     "text": [
      "directed_by(Heaven Is for Real,X), directed_by_reverse(X,Y), starred_actors(Y,Z)\n",
      "starred_actors(navid in wonderland,X)\n"
     ]
    }
   ],
   "source": [
    "print(tokenizer.decode(outputs[0], skip_special_tokens=True))\n",
    "print(tokenizer.decode(outputs[1], skip_special_tokens=True))"
   ]
  },
  {
   "cell_type": "markdown",
   "id": "f72b85f8",
   "metadata": {},
   "source": [
    "### accuracy of translator on test set"
   ]
  },
  {
   "cell_type": "code",
   "execution_count": 21,
   "id": "68f0c8e3",
   "metadata": {},
   "outputs": [
    {
     "data": {
      "text/plain": [
       "(['summarize: what does [Grégoire Colin] appear in',\n",
       "  'summarize: [Joe Thomas] appears in which movies',\n",
       "  'summarize: what films did [Michelle Trachtenberg] star in'],\n",
       " 39093)"
      ]
     },
     "execution_count": 21,
     "metadata": {},
     "output_type": "execute_result"
    }
   ],
   "source": [
    "import json\n",
    "\n",
    "questions = []\n",
    "trans_qs = []\n",
    "with open('data/test.json', 'r') as json_file:\n",
    "    json_list = list(json_file)\n",
    "    for json_str in json_list:\n",
    "        result = json.loads(json_str)\n",
    "        questions.append(result['question'])\n",
    "        trans_qs.append(result['logical_steps'])\n",
    "\n",
    "# preprocess questions\n",
    "questions = [f\"summarize: {q}\" for q in questions]\n",
    "questions[:3], len(questions)"
   ]
  },
  {
   "cell_type": "code",
   "execution_count": 25,
   "id": "bcab85ba",
   "metadata": {},
   "outputs": [
    {
     "name": "stderr",
     "output_type": "stream",
     "text": [
      "\n",
      "  0%|          | 0/39093 [00:00<?, ?it/s]\u001b[A\n",
      " 13%|█▎        | 5000/39093 [00:20<02:21, 241.30it/s]\u001b[A\n",
      " 13%|█▎        | 5000/39093 [00:33<02:21, 241.30it/s]\u001b[A\n",
      " 26%|██▌       | 10000/39093 [00:46<02:19, 209.26it/s]\u001b[A\n",
      " 26%|██▌       | 10000/39093 [01:03<02:19, 209.26it/s]\u001b[A\n",
      " 38%|███▊      | 15000/39093 [01:19<02:14, 179.00it/s]\u001b[A\n",
      " 38%|███▊      | 15000/39093 [01:33<02:14, 179.00it/s]\u001b[A\n",
      " 51%|█████     | 20000/39093 [01:46<01:44, 182.79it/s]\u001b[A\n",
      " 51%|█████     | 20000/39093 [02:03<01:44, 182.79it/s]\u001b[A\n",
      " 64%|██████▍   | 25000/39093 [02:20<01:24, 167.73it/s]\u001b[A\n",
      " 64%|██████▍   | 25000/39093 [02:33<01:24, 167.73it/s]\u001b[A\n",
      " 77%|███████▋  | 30000/39093 [03:01<01:01, 148.42it/s]\u001b[A\n",
      " 77%|███████▋  | 30000/39093 [03:13<01:01, 148.42it/s]\u001b[A\n",
      " 90%|████████▉ | 35000/39093 [03:42<00:29, 138.31it/s]\u001b[A\n",
      " 90%|████████▉ | 35000/39093 [03:53<00:29, 138.31it/s]\u001b[A\n",
      "40000it [04:16, 156.18it/s]                           \u001b[A\n"
     ]
    }
   ],
   "source": [
    "from tqdm import tqdm\n",
    "\n",
    "def get_translated_output(query_list, tokenizer, model, batch_size=5000):\n",
    "    results = []\n",
    "    i = 0\n",
    "    pbar = tqdm(total = len(query_list))\n",
    "    \n",
    "    while i < len(query_list):\n",
    "        batch = query_list[i:i+batch_size]\n",
    "        \n",
    "        inputs = tokenizer(\n",
    "            batch,\n",
    "            return_tensors=\"pt\",\n",
    "            max_length=200,\n",
    "            truncation=True,\n",
    "            padding=True\n",
    "        ).input_ids\n",
    "        \n",
    "        outputs = model.generate(inputs, max_length=200)\n",
    "        \n",
    "        curr_res = [tokenizer.decode(out, skip_special_tokens=True) for out in outputs]\n",
    "        i += batch_size\n",
    "        pbar.update(batch_size)\n",
    "        results.extend(curr_res)\n",
    "    pbar.close()\n",
    "    return results\n",
    "    \n",
    "model_outputs = get_translated_output(questions, tokenizer, model)"
   ]
  },
  {
   "cell_type": "code",
   "execution_count": 26,
   "id": "9bc0ea2f",
   "metadata": {},
   "outputs": [
    {
     "name": "stdout",
     "output_type": "stream",
     "text": [
      "starred_actors_reverse(Martn Adjemián,X) starred_actors_reverse(Martín Adjemián,X)\n",
      "starred_actors_reverse(Frank Ramrez,X) starred_actors_reverse(Frank Ramírez,X)\n",
      "starred_actors_reverse(Alicia Rodrguez,X) starred_actors_reverse(Alicia Rodríguez,X)\n",
      "starred_actors_reverse(Gwenalle Simon,X) starred_actors_reverse(Gwenaëlle Simon,X)\n",
      "starred_actors_reverse(Manuel Manquia,X) starred_actors_reverse(Manuel Manquiña,X)\n",
      "starred_actors_reverse(Ma Maestro,X) starred_actors_reverse(Mía Maestro,X)\n",
      "starred_actors_reverse(Fabrcio Boliveira,X) starred_actors_reverse(Fabrício Boliveira,X)\n",
      "directed_by_reverse(Peter Schnau Fog,X) directed_by_reverse(Peter Schønau Fog,X)\n",
      "directed_by_reverse(Jol Séria,X) directed_by_reverse(Joël Séria,X)\n",
      "directed_by_reverse(Icar Bollan,X) directed_by_reverse(Icíar Bollaín,X)\n",
      "directed_by_reverse(Rigoberto Castaeda,X) directed_by_reverse(Rigoberto Castañeda,X)\n",
      "directed_by_reverse(Jonas kerlund,X) directed_by_reverse(Jonas Åkerlund,X)\n",
      "directed_by_reverse(Hafsteinn Gunnar Sigursson,X) directed_by_reverse(Hafsteinn Gunnar Sigurðsson,X)\n",
      "directed_by_reverse(Luis Buuel,X) directed_by_reverse(Luis Buñuel,X)\n",
      "directed_by_reverse(Luis Garca Berlanga,X) directed_by_reverse(Luis García Berlanga,X)\n",
      "directed_by_reverse(Joo César Monteiro,X) directed_by_reverse(João César Monteiro,X)\n",
      "directed_by_reverse(Erik Lchen,X) directed_by_reverse(Erik Løchen,X)\n",
      "directed_by_reverse(Juan Carlos Tabo,X) directed_by_reverse(Juan Carlos Tabío,X)\n",
      "starred_actors(Cradle 2, the Grave,X) starred_actors(Cradle 2 the Grave,X)\n",
      "starred_actors(812,X) starred_actors(8½,X)\n",
      "directed_by(Baara,X) directed_by(Baarìa,X)\n",
      "directed_by(The Way Way Way Back,X) directed_by(The Way Way Back,X)\n",
      "has_genre(Gen13,X) has_genre(Gen¹³,X)\n",
      "has_genre(Jungle 2, Jungle,X) has_genre(Jungle 2 Jungle,X)\n",
      "in_language(Tentaço,X) in_language(Tentação,X)\n",
      "written_by(Faster, Pussycat! Kill! Kill! Kill!,X) written_by(Faster, Pussycat! Kill! Kill!,X)\n",
      "written_by(Madame Sat,X) written_by(Madame Satã,X)\n",
      "written_by(Baara,X) written_by(Baarìa,X)\n",
      "has_tags_religious_reverse(religious,X) has_tags_reverse(religious,X)\n",
      "written_by_reverse(Hallgrmur Helgason,X) written_by_reverse(Hallgrímur Helgason,X)\n",
      "written_by_reverse(Christopher Grndahl,X) written_by_reverse(Christopher Grøndahl,X)\n",
      "written_by_reverse(Simon Michal,X) written_by_reverse(Simon Michaël,X)\n",
      "written_by_reverse(Via Delmar,X) written_by_reverse(Viña Delmar,X)\n",
      "written_by_reverse(gst Gumundsson,X) written_by_reverse(Ágúst Guðmundsson,X)\n",
      "written_by_reverse(Václav Kaplick,X) written_by_reverse(Václav Kaplický,X)\n",
      "written_by_reverse(Vicente Blasco Ibáez,X) written_by_reverse(Vicente Blasco Ibáñez,X)\n",
      "written_by_reverse(Bjrn Lomborg,X) written_by_reverse(Bjørn Lomborg,X)\n",
      "starred_actors_reverse(Gwenalle Simon,X), starred_actors(X,Y) starred_actors_reverse(Gwenaëlle Simon,X), starred_actors(X,Y)\n",
      "starred_actors_reverse(Gustaf Skarsgrd,X), starred_actors(X,Y) starred_actors_reverse(Gustaf Skarsgård,X), starred_actors(X,Y)\n",
      "written_by_reverse(Joo Falco,X), release_year(X,Y) written_by_reverse(João Falcão,X), release_year(X,Y)\n",
      "directed_by_reverse(Gabe Ibáez,X), starred_actors(X,Y) directed_by_reverse(Gabe Ibáñez,X), starred_actors(X,Y)\n",
      "directed_by(Ado e Eva,X), directed_by_reverse(X,Y) directed_by(Adão e Eva,X), directed_by_reverse(X,Y)\n",
      "directed_by_reverse(zhan Eren,X), release_year(X,Y) directed_by_reverse(Özhan Eren,X), release_year(X,Y)\n",
      "written_by_reverse(Erik Lchen,X), release_year(X,Y) written_by_reverse(Erik Løchen,X), release_year(X,Y)\n",
      "starred_actors_reverse(Jorge D'Ela,X), directed_by(X,Y) starred_actors_reverse(Jorge D'Elía,X), directed_by(X,Y)\n",
      "starred_actors_reverse(Marina Fos,X), starred_actors(X,Y) starred_actors_reverse(Marina Foïs,X), starred_actors(X,Y)\n",
      "written_by_reverse(Mikael Hfström,X), starred_actors(X,Y) written_by_reverse(Mikael Håfström,X), starred_actors(X,Y)\n",
      "starred_actors_reverse(Mozhan Marn,X), has_genre(X,Y) starred_actors_reverse(Mozhan Marnò,X), has_genre(X,Y)\n",
      "directed_by_reverse(Petter Nss,X), starred_actors(X,Y) directed_by_reverse(Petter Næss,X), starred_actors(X,Y)\n",
      "written_by_reverse(Joo Pedro Rodrigues,X), release_year(X,Y) written_by_reverse(João Pedro Rodrigues,X), release_year(X,Y)\n",
      "directed_by_reverse(Marcelo Galvo,X), has_genre(X,Y) directed_by_reverse(Marcelo Galvão,X), has_genre(X,Y)\n",
      "directed_by_reverse(Veiko unpuu,X), in_language(X,Y) directed_by_reverse(Veiko Õunpuu,X), in_language(X,Y)\n",
      "starred_actors_reverse(Gael Garca Bernal,X), written_by(X,Y) starred_actors_reverse(Gael García Bernal,X), written_by(X,Y)\n",
      "starred_actors_reverse(Ral Arévalo,X), written_by(X,Y) starred_actors_reverse(Raúl Arévalo,X), written_by(X,Y)\n",
      "starred_actors_reverse(Mara Alche,X), written_by(X,Y) starred_actors_reverse(María Alche,X), written_by(X,Y)\n",
      "starred_actors_reverse(Bjrn Sundquist,X), in_language(X,Y) starred_actors_reverse(Bjørn Sundquist,X), in_language(X,Y)\n",
      "written_by_reverse(Joo Emanuel Carneiro,X), starred_actors(X,Y) written_by_reverse(João Emanuel Carneiro,X), starred_actors(X,Y)\n",
      "written_by_reverse(Arnaldur Indriason,X), release_year(X,Y) written_by_reverse(Arnaldur Indriðason,X), release_year(X,Y)\n",
      "directed_by_reverse(mer Faruk Sorak,X), in_language(X,Y) directed_by_reverse(Ömer Faruk Sorak,X), in_language(X,Y)\n",
      "written_by_reverse(Kamir Anouz,X), starred_actors(X,Y) written_by_reverse(Kamir Aïnouz,X), starred_actors(X,Y)\n",
      "written_by_reverse(Mara Belón,X), release_year(X,Y) written_by_reverse(María Belón,X), release_year(X,Y)\n",
      "written_by_reverse(Carl strand,X), in_language(X,Y) written_by_reverse(Carl Åstrand,X), in_language(X,Y)\n",
      "written_by_reverse(ke Sandgren,X), release_year(X,Y) written_by_reverse(Åke Sandgren,X), release_year(X,Y)\n",
      "written_by_reverse(Bjrn Lomborg,X), directed_by(X,Y) written_by_reverse(Bjørn Lomborg,X), directed_by(X,Y)\n",
      "directed_by_reverse(Vctor Maldonado,X), directed_by(X,Y) directed_by_reverse(Víctor Maldonado,X), directed_by(X,Y)\n",
      "written_by_reverse(Vctor Maldonado,X), in_language(X,Y) written_by_reverse(Víctor Maldonado,X), in_language(X,Y)\n",
      "starred_actors_reverse(Bjrn Lomborg,X), written_by(X,Y) starred_actors_reverse(Bjørn Lomborg,X), written_by(X,Y)\n",
      "starred_actors_reverse(Sren Pilmark,X), directed_by(X,Y) starred_actors_reverse(Søren Pilmark,X), directed_by(X,Y)\n",
      "written_by_reverse(Rodrigo Garca,X), release_year(X,Y) written_by_reverse(Rodrigo García,X), release_year(X,Y)\n",
      "directed_by_reverse(Agustn Daz Yanes,X), release_year(X,Y) directed_by_reverse(Agustín Díaz Yanes,X), release_year(X,Y)\n",
      "starred_actors_reverse(Elizabeth Pea,X), directed_by(X,Y) starred_actors_reverse(Elizabeth Peña,X), directed_by(X,Y)\n",
      "written_by_reverse(David Muoz,X), in_language(X,Y) written_by_reverse(David Muñoz,X), in_language(X,Y)\n",
      "written_by_reverse(Luis Garca Berlanga,X), release_year(X,Y) written_by_reverse(Luis García Berlanga,X), release_year(X,Y)\n",
      "written_by_reverse(Rodrigo Sopea,X), in_language(X,Y) written_by_reverse(Rodrigo Sopeña,X), in_language(X,Y)\n",
      "starred_actors_reverse(Octavio Gómez Berros,X), written_by(X,Y) starred_actors_reverse(Octavio Gómez Berríos,X), written_by(X,Y)\n",
      "written_by_reverse(Kamir Anouz,X), directed_by(X,Y) written_by_reverse(Kamir Aïnouz,X), directed_by(X,Y)\n",
      "written_by_reverse(Karim Anouz,X), has_genre(X,Y) written_by_reverse(Karim Aïnouz,X), has_genre(X,Y)\n",
      "directed_by_reverse(Mns Mrlind,X), starred_actors(X,Y) directed_by_reverse(Måns Mårlind,X), starred_actors(X,Y)\n",
      "written_by_reverse(Rnar Rnarsson,X), release_year(X,Y) written_by_reverse(Rúnar Rúnarsson,X), release_year(X,Y)\n",
      "directed_by_reverse(Lasse berg,X), release_year(X,Y) directed_by_reverse(Lasse Åberg,X), release_year(X,Y)\n",
      "starred_actors_reverse(Frank Braa,X), in_language(X,Y) starred_actors_reverse(Frank Braña,X), in_language(X,Y)\n",
      "written_by_reverse(Agust Villaronga,X), written_by(X,Y) written_by_reverse(Agustí Villaronga,X), written_by(X,Y)\n",
      "starred_actors_reverse(Ricardo Darn,X), release_year(X,Y) starred_actors_reverse(Ricardo Darín,X), release_year(X,Y)\n",
      "written_by_reverse(Agustn Daz Yanes,X), release_year(X,Y) written_by_reverse(Agustín Díaz Yanes,X), release_year(X,Y)\n",
      "starred_actors_reverse(Vincius de Oliveira,X), in_language(X,Y) starred_actors_reverse(Vinícius de Oliveira,X), in_language(X,Y)\n",
      "directed_by_reverse(Luca Puenzo,X), starred_actors(X,Y) directed_by_reverse(Lucía Puenzo,X), starred_actors(X,Y)\n",
      "starred_actors_reverse(Bjrn Lomborg,X), directed_by(X,Y) starred_actors_reverse(Bjørn Lomborg,X), directed_by(X,Y)\n",
      "directed_by_reverse(Michal R. Roskam,X), in_language(X,Y) directed_by_reverse(Michaël R. Roskam,X), in_language(X,Y)\n",
      "written_by_reverse(Jrgen Leth,X), release_year(X,Y) written_by_reverse(Jørgen Leth,X), release_year(X,Y)\n",
      "written_by_reverse(Luis Buuel,X), in_language(X,Y) written_by_reverse(Luis Buñuel,X), in_language(X,Y)\n",
      "directed_by_reverse(Alejandro González Iárritu,X), release_year(X,Y) directed_by_reverse(Alejandro González Iñárritu,X), release_year(X,Y)\n",
      "starred_actors_reverse(Manuel Manquia,X), written_by(X,Y) starred_actors_reverse(Manuel Manquiña,X), written_by(X,Y)\n",
      "starred_actors_reverse(lex Angulo,X), directed_by(X,Y) starred_actors_reverse(Álex Angulo,X), directed_by(X,Y)\n",
      "written_by_reverse(Joo Falco,X), has_genre(X,Y) written_by_reverse(João Falcão,X), has_genre(X,Y)\n",
      "directed_by_reverse(Vctor Garca,X), has_genre(X,Y) directed_by_reverse(Víctor García,X), has_genre(X,Y)\n",
      "written_by_reverse(Kamir Anouz,X), written_by(X,Y) written_by_reverse(Kamir Aïnouz,X), written_by(X,Y)\n",
      "starred_actors_reverse(Robert Skjrstad,X), in_language(X,Y) starred_actors_reverse(Robert Skjærstad,X), in_language(X,Y)\n",
      "starred_actors_reverse(José Ziga,X), starred_actors(X,Y) starred_actors_reverse(José Zúñiga,X), starred_actors(X,Y)\n",
      "directed_by_reverse(Mikkel Brnne Sandemose,X), in_language(X,Y) directed_by_reverse(Mikkel Brænne Sandemose,X), in_language(X,Y)\n",
      "written_by_reverse(Thorbjrn Christoffersen,X), in_language(X,Y) written_by_reverse(Thorbjørn Christoffersen,X), in_language(X,Y)\n",
      "written_by_reverse(Erik Skjoldbjrg,X), in_language(X,Y) written_by_reverse(Erik Skjoldbjærg,X), in_language(X,Y)\n",
      "starred_actors_reverse(Jan Gunnar Rise,X), release_year(X,Y) starred_actors_reverse(Jan Gunnar Røise,X), release_year(X,Y)\n",
      "directed_by_reverse(Ruben stlund,X), written_by(X,Y) directed_by_reverse(Ruben Östlund,X), written_by(X,Y)\n",
      "written_by_reverse(gst Gumundsson,X), in_language(X,Y) written_by_reverse(Ágúst Guðmundsson,X), in_language(X,Y)\n",
      "directed_by_reverse(Eugenio Martn,X), release_year(X,Y) directed_by_reverse(Eugenio Martín,X), release_year(X,Y)\n",
      "directed_by_reverse(Erik Lchen,X), release_year(X,Y) directed_by_reverse(Erik Løchen,X), release_year(X,Y)\n",
      "written_by_reverse(Gabriel Garca Márquez,X), directed_by(X,Y) written_by_reverse(Gabriel García Márquez,X), directed_by(X,Y)\n",
      "starred_actors_reverse(Gustaf Skarsgrd,X), in_language(X,Y) starred_actors_reverse(Gustaf Skarsgård,X), in_language(X,Y)\n",
      "directed_by_reverse(Erik Skjoldbjrg,X), written_by(X,Y) directed_by_reverse(Erik Skjoldbjærg,X), written_by(X,Y)\n",
      "starred_actors_reverse(Paulina Garca,X), written_by(X,Y) starred_actors_reverse(Paulina García,X), written_by(X,Y)\n",
      "directed_by_reverse(Joaquim Leito,X), in_language(X,Y) directed_by_reverse(Joaquim Leitão,X), in_language(X,Y)\n",
      "starred_actors_reverse(Alexander Skarsgrd,X), starred_actors(X,Y) starred_actors_reverse(Alexander Skarsgård,X), starred_actors(X,Y)\n",
      "starred_actors(Piero,X), starred_actors_reverse(X,Y) starred_actors(Piñero,X), starred_actors_reverse(X,Y)\n",
      "written_by_reverse(Niels Vrsel,X), starred_actors(X,Y) written_by_reverse(Niels Vørsel,X), starred_actors(X,Y)\n",
      "written_by_reverse(Jrgen Leth,X), in_language(X,Y) written_by_reverse(Jørgen Leth,X), in_language(X,Y)\n",
      "written_by_reverse(Mikkel Nrgaard,X), release_year(X,Y) written_by_reverse(Mikkel Nørgaard,X), release_year(X,Y)\n",
      "starred_actors_reverse(Maribel Martn,X), release_year(X,Y) starred_actors_reverse(Maribel Martín,X), release_year(X,Y)\n",
      "starred_actors_reverse(Yal Abecassis,X), release_year(X,Y) starred_actors_reverse(Yaël Abecassis,X), release_year(X,Y)\n",
      "directed_by_reverse(Jesper Mller,X), directed_by(X,Y) directed_by_reverse(Jesper Møller,X), directed_by(X,Y)\n",
      "written_by_reverse(Karim Anouz,X), release_year(X,Y) written_by_reverse(Karim Aïnouz,X), release_year(X,Y)\n",
      "starred_actors_reverse(Vincius de Oliveira,X), starred_actors(X,Y) starred_actors_reverse(Vinícius de Oliveira,X), starred_actors(X,Y)\n",
      "starred_actors_reverse(Michal Cohen,X), release_year(X,Y) starred_actors_reverse(Michaël Cohen,X), release_year(X,Y)\n",
      "starred_actors_reverse(Murilo Bencio,X), has_genre(X,Y) starred_actors_reverse(Murilo Benício,X), has_genre(X,Y)\n",
      "written_by_reverse(Frank Ramrez,X), has_genre(X,Y) written_by_reverse(Frank Ramírez,X), has_genre(X,Y)\n",
      "written_by_reverse(Pablo Larran,X), release_year(X,Y) written_by_reverse(Pablo Larraín,X), release_year(X,Y)\n",
      "directed_by_reverse(Mawenn,X), has_genre(X,Y) directed_by_reverse(Maïwenn,X), has_genre(X,Y)\n",
      "written_by(812,X), written_by_reverse(X,Y) written_by(8½,X), written_by_reverse(X,Y)\n",
      "starred_actors_reverse(Chlo Grace Moretz,X), written_by(X,Y) starred_actors_reverse(Chloë Grace Moretz,X), written_by(X,Y)\n",
      "starred_actors_reverse(Paulina Garca,X), starred_actors(X,Y) starred_actors_reverse(Paulina García,X), starred_actors(X,Y)\n",
      "directed_by_reverse(Juan Carlos Tabo,X), release_year(X,Y) directed_by_reverse(Juan Carlos Tabío,X), release_year(X,Y)\n",
      "written_by_reverse(Zo Lund,X), directed_by(X,Y) written_by_reverse(Zoë Lund,X), directed_by(X,Y)\n",
      "directed_by_reverse(gnes Hranitzky,X), has_genre(X,Y) directed_by_reverse(Ágnes Hranitzky,X), has_genre(X,Y)\n",
      "directed_by_reverse(Agust Vila,X), has_genre(X,Y) directed_by_reverse(Agustí Vila,X), has_genre(X,Y)\n",
      "directed_by_reverse(Vt Klusák,X), has_genre(X,Y) directed_by_reverse(Vít Klusák,X), has_genre(X,Y)\n",
      "written_by_reverse(Jrgen Leth,X), written_by(X,Y) written_by_reverse(Jørgen Leth,X), written_by(X,Y)\n",
      "directed_by_reverse(ke Sandgren,X), starred_actors(X,Y) directed_by_reverse(Åke Sandgren,X), starred_actors(X,Y)\n",
      "starred_actors_reverse(Mara Onetto,X), has_genre(X,Y) starred_actors_reverse(María Onetto,X), has_genre(X,Y)\n",
      "starred_actors_reverse(Zo Bell,X), release_year(X,Y) starred_actors_reverse(Zoë Bell,X), release_year(X,Y)\n",
      "starred_actors_reverse(Yoná Magalhes,X), written_by(X,Y) starred_actors_reverse(Yoná Magalhães,X), written_by(X,Y)\n",
      "starred_actors_reverse(Ricardo Darn,X), has_genre(X,Y) starred_actors_reverse(Ricardo Darín,X), has_genre(X,Y)\n",
      "starred_actors(Love and a.45,X), starred_actors_reverse(X,Y) starred_actors(Love and a .45,X), starred_actors_reverse(X,Y)\n",
      "starred_actors_reverse(Murilo Bencio,X), written_by(X,Y) starred_actors_reverse(Murilo Benício,X), written_by(X,Y)\n",
      "starred_actors_reverse(Ral Castro,X), has_genre(X,Y) starred_actors_reverse(Raúl Castro,X), has_genre(X,Y)\n",
      "written_by_reverse(Adrià Garca,X), directed_by(X,Y) written_by_reverse(Adrià García,X), directed_by(X,Y)\n",
      "written_by_reverse(Luca Puenzo,X), starred_actors(X,Y) written_by_reverse(Lucía Puenzo,X), starred_actors(X,Y)\n",
      "starred_actors_reverse(Chlo Sevigny,X), written_by(X,Y) starred_actors_reverse(Chloë Sevigny,X), written_by(X,Y)\n",
      "written_by_reverse(Luis Garca Berlanga,X), has_genre(X,Y) written_by_reverse(Luis García Berlanga,X), has_genre(X,Y)\n",
      "directed_by_reverse(André vredal,X), release_year(X,Y) directed_by_reverse(André Øvredal,X), release_year(X,Y)\n",
      "starred_actors_reverse(Kre Hedebrant,X), written_by(X,Y) starred_actors_reverse(Kåre Hedebrant,X), written_by(X,Y)\n",
      "starred_actors_reverse(Hvard Lilleheie,X), in_language(X,Y) starred_actors_reverse(Håvard Lilleheie,X), in_language(X,Y)\n",
      "starred_actors_reverse(Sofa Vergara,X), starred_actors(X,Y) starred_actors_reverse(Sofía Vergara,X), starred_actors(X,Y)\n",
      "starred_actors_reverse(Jorge D'Ela,X), in_language(X,Y) starred_actors_reverse(Jorge D'Elía,X), in_language(X,Y)\n",
      "directed_by_reverse(Mikael Hfström,X), directed_by(X,Y) directed_by_reverse(Mikael Håfström,X), directed_by(X,Y)\n",
      "written_by_reverse(Thorbjrn Christoffersen,X), directed_by(X,Y) written_by_reverse(Thorbjørn Christoffersen,X), directed_by(X,Y)\n",
      "written_by_reverse(Inés Pars,X), release_year(X,Y) written_by_reverse(Inés París,X), release_year(X,Y)\n",
      "starred_actors_reverse(Ral Castro,X), starred_actors(X,Y) starred_actors_reverse(Raúl Castro,X), starred_actors(X,Y)\n",
      "written_by_reverse(Rodrigo Garca,X), has_genre(X,Y) written_by_reverse(Rodrigo García,X), has_genre(X,Y)\n",
      "written_by_reverse(Vctor Maldonado,X), has_genre(X,Y) written_by_reverse(Víctor Maldonado,X), has_genre(X,Y)\n",
      "directed_by_reverse(Veiko unpuu,X), has_genre(X,Y) directed_by_reverse(Veiko Õunpuu,X), has_genre(X,Y)\n",
      "starred_actors_reverse(Sanna Brding,X), directed_by(X,Y) starred_actors_reverse(Sanna Bråding,X), directed_by(X,Y)\n",
      "directed_by_reverse(Las Bodanzky,X), starred_actors(X,Y) directed_by_reverse(Laís Bodanzky,X), starred_actors(X,Y)\n",
      "starred_actors_reverse(Fábio Assunço,X), release_year(X,Y) starred_actors_reverse(Fábio Assunção,X), release_year(X,Y)\n",
      "written_by_reverse(Guillermo Martnez,X), has_genre(X,Y) written_by_reverse(Guillermo Martínez,X), has_genre(X,Y)\n",
      "starred_actors_reverse(Sondre Srheim,X), written_by(X,Y) starred_actors_reverse(Sondre Sørheim,X), written_by(X,Y)\n",
      "written_by_reverse(Mikael Hfström,X), has_genre(X,Y) written_by_reverse(Mikael Håfström,X), has_genre(X,Y)\n",
      "starred_actors_reverse(Mozhan Marn,X), written_by(X,Y) starred_actors_reverse(Mozhan Marnò,X), written_by(X,Y)\n",
      "written_by_reverse(Joo Emanuel Carneiro,X), release_year(X,Y) written_by_reverse(João Emanuel Carneiro,X), release_year(X,Y)\n",
      "directed_by_reverse(Vctor Erice,X), has_genre(X,Y) directed_by_reverse(Víctor Erice,X), has_genre(X,Y)\n",
      "written_by_reverse(Emily Bront,X), has_genre(X,Y) written_by_reverse(Emily Brontë,X), has_genre(X,Y)\n",
      "starred_actors_reverse(Mara Félix,X), starred_actors(X,Y) starred_actors_reverse(María Félix,X), starred_actors(X,Y)\n",
      "starred_actors(Sssss,X), starred_actors_reverse(X,Y), in_language(Y,Z) starred_actors(Sssssss,X), starred_actors_reverse(X,Y), in_language(Y,Z)\n",
      "starred_actors(on Flux,X), starred_actors_reverse(X,Y), has_genre(Y,Z) starred_actors(Æon Flux,X), starred_actors_reverse(X,Y), has_genre(Y,Z)\n",
      "directed_by(It's a Mad, Mad, Mad World,X), directed_by_reverse(X,Y), in_language(Y,Z) directed_by(It's a Mad, Mad, Mad, Mad World,X), directed_by_reverse(X,Y), in_language(Y,Z)\n",
      "directed_by(on Flux,X), directed_by_reverse(X,Y), starred_actors(Y,Z) directed_by(Æon Flux,X), directed_by_reverse(X,Y), starred_actors(Y,Z)\n",
      "written_by(101 Reykjavk,X), written_by_reverse(X,Y), starred_actors(Y,Z) written_by(101 Reykjavík,X), written_by_reverse(X,Y), starred_actors(Y,Z)\n",
      "starred_actors(Luca, Luca,X), starred_actors_reverse(X,Y), written_by(Y,Z) starred_actors(Lucía, Lucía,X), starred_actors_reverse(X,Y), written_by(Y,Z)\n",
      "written_by(Quinceaera,X), written_by_reverse(X,Y), directed_by(Y,Z) written_by(Quinceañera,X), written_by_reverse(X,Y), directed_by(Y,Z)\n",
      "starred_actors(Luca, Luca,X), starred_actors_reverse(X,Y), in_language(Y,Z) starred_actors(Lucía, Lucía,X), starred_actors_reverse(X,Y), in_language(Y,Z)\n",
      "directed_by(Baara,X), directed_by_reverse(X,Y), starred_actors(Y,Z) directed_by(Baarìa,X), directed_by_reverse(X,Y), starred_actors(Y,Z)\n",
      "directed_by(Three Amigos!,X), directed_by_reverse(X,Y), has_genre(Y,Z) directed_by(¡Three Amigos!,X), directed_by_reverse(X,Y), has_genre(Y,Z)\n",
      "directed_by(Tora! Tora!,X), directed_by_reverse(X,Y), has_genre(Y,Z) directed_by(Tora! Tora! Tora!,X), directed_by_reverse(X,Y), has_genre(Y,Z)\n",
      "starred_actors(Jungle 2, Jungle,X), starred_actors_reverse(X,Y), written_by(Y,Z) starred_actors(Jungle 2 Jungle,X), starred_actors_reverse(X,Y), written_by(Y,Z)\n",
      "written_by(Sal, or the 120 Days of Sodom,X), written_by_reverse(X,Y), has_genre(Y,Z) written_by(Salò, or the 120 Days of Sodom,X), written_by_reverse(X,Y), has_genre(Y,Z)\n",
      "starred_actors(111.6,X), starred_actors_reverse(X,Y), directed_by(Y,Z) starred_actors(11.6,X), starred_actors_reverse(X,Y), directed_by(Y,Z)\n",
      "starred_actors(Le Samoura,X), starred_actors_reverse(X,Y), written_by(Y,Z) starred_actors(Le Samouraï,X), starred_actors_reverse(X,Y), written_by(Y,Z)\n",
      "directed_by(Baara,X), directed_by_reverse(X,Y), release_year(Y,Z) directed_by(Baarìa,X), directed_by_reverse(X,Y), release_year(Y,Z)\n",
      "directed_by(Tora! Tora!,X), directed_by_reverse(X,Y), starred_actors(Y,Z) directed_by(Tora! Tora! Tora!,X), directed_by_reverse(X,Y), starred_actors(Y,Z)\n",
      "written_by(Faster, Pussycat! Kill! Kill! Kill!,X), written_by_reverse(X,Y), has_genre(Y,Z) written_by(Faster, Pussycat! Kill! Kill!,X), written_by_reverse(X,Y), has_genre(Y,Z)\n",
      "starred_actors(Jungle 2, Jungle,X), starred_actors_reverse(X,Y), release_year(Y,Z) starred_actors(Jungle 2 Jungle,X), starred_actors_reverse(X,Y), release_year(Y,Z)\n",
      "starred_actors(Love and a.45,X), starred_actors_reverse(X,Y), release_year(Y,Z) starred_actors(Love and a .45,X), starred_actors_reverse(X,Y), release_year(Y,Z)\n",
      "directed_by(Quinceaera,X), directed_by_reverse(X,Y), written_by(Y,Z) directed_by(Quinceañera,X), directed_by_reverse(X,Y), written_by(Y,Z)\n",
      "written_by(Three Amigos!,X), written_by_reverse(X,Y), starred_actors(Y,Z) written_by(¡Three Amigos!,X), written_by_reverse(X,Y), starred_actors(Y,Z)\n",
      "starred_actors(A Mulher Invisvel,X), starred_actors_reverse(X,Y), written_by(Y,Z) starred_actors(A Mulher Invisível,X), starred_actors_reverse(X,Y), written_by(Y,Z)\n",
      "accuracy: 0.9950630547668381\n"
     ]
    }
   ],
   "source": [
    "exact_matches = 0\n",
    "\n",
    "for model_gen, gold_out in zip(model_outputs, trans_qs):\n",
    "    if model_gen == gold_out:\n",
    "        exact_matches += 1\n",
    "    else:\n",
    "        print(model_gen, gold_out)\n",
    "        \n",
    "print(f\"accuracy: {exact_matches/len(model_outputs)}\")"
   ]
  },
  {
   "cell_type": "code",
   "execution_count": 32,
   "id": "5484dd1a",
   "metadata": {},
   "outputs": [],
   "source": [
    "import pickle\n",
    "\n",
    "with open('predictions.pkl', 'wb') as f:\n",
    "    pickle.dump(model_outputs, f)"
   ]
  },
  {
   "cell_type": "code",
   "execution_count": 27,
   "id": "84057155",
   "metadata": {},
   "outputs": [
    {
     "data": {
      "text/plain": [
       "(39093, 39093)"
      ]
     },
     "execution_count": 27,
     "metadata": {},
     "output_type": "execute_result"
    }
   ],
   "source": [
    "len(model_outputs), len(trans_qs)"
   ]
  },
  {
   "cell_type": "code",
   "execution_count": null,
   "id": "dbd36836",
   "metadata": {},
   "outputs": [],
   "source": []
  }
 ],
 "metadata": {
  "kernelspec": {
   "display_name": "Python 3 (ipykernel)",
   "language": "python",
   "name": "python3"
  },
  "language_info": {
   "codemirror_mode": {
    "name": "ipython",
    "version": 3
   },
   "file_extension": ".py",
   "mimetype": "text/x-python",
   "name": "python",
   "nbconvert_exporter": "python",
   "pygments_lexer": "ipython3",
   "version": "3.8.12"
  },
  "toc": {
   "base_numbering": 1,
   "nav_menu": {},
   "number_sections": true,
   "sideBar": true,
   "skip_h1_title": false,
   "title_cell": "Table of Contents",
   "title_sidebar": "Contents",
   "toc_cell": false,
   "toc_position": {
    "height": "calc(100% - 180px)",
    "left": "10px",
    "top": "150px",
    "width": "349.091px"
   },
   "toc_section_display": true,
   "toc_window_display": true
  }
 },
 "nbformat": 4,
 "nbformat_minor": 5
}
